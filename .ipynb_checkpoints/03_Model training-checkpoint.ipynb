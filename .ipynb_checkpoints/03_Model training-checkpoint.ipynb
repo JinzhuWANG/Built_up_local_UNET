{
 "cells": [
  {
   "cell_type": "code",
   "execution_count": 5,
   "id": "2c9b2d00",
   "metadata": {},
   "outputs": [],
   "source": [
    "import torch\n",
    "import torch.nn as nn\n",
    "from torch.utils.data import DataLoader,Dataset\n",
    "\n",
    "from tqdm import tqdm\n",
    "\n",
    "# from torchvision.utils import save_image\n",
    "from sklearn.model_selection import train_test_split"
   ]
  },
  {
   "cell_type": "code",
   "execution_count": null,
   "id": "edcaee9b-d8cb-4403-b9e5-fa82098b44e8",
   "metadata": {},
   "outputs": [],
   "source": []
  },
  {
   "cell_type": "code",
   "execution_count": 6,
   "id": "38584b37",
   "metadata": {},
   "outputs": [],
   "source": [
    "device = 'cuda' if torch.cuda.is_available() else 'cpu'\n",
    "\n",
    "NUM_EPOCH = 400\n",
    "IN_CHANNLE = 40\n",
    "BATCH_SIZE = 12"
   ]
  },
  {
   "cell_type": "code",
   "execution_count": null,
   "id": "2b10a821",
   "metadata": {},
   "outputs": [],
   "source": []
  },
  {
   "cell_type": "code",
   "execution_count": 7,
   "id": "a7651820-2af8-41ff-8647-55184ff85611",
   "metadata": {},
   "outputs": [
    {
     "data": {
      "text/plain": [
       "{'1990_1992': 10,\n",
       " '1993_1995': 9,\n",
       " '1996_1998': 8,\n",
       " '1999_2001': 7,\n",
       " '2002_2004': 6,\n",
       " '2005_2007': 5,\n",
       " '2008_2010': 4,\n",
       " '2011_2013': 3,\n",
       " '2014_2016': 2,\n",
       " '2017_2019': 1}"
      ]
     },
     "execution_count": 7,
     "metadata": {},
     "output_type": "execute_result"
    }
   ],
   "source": [
    "# define the region for traning\n",
    "target = 'xinan'\n",
    "year = '2017_2019'\n",
    "\n",
    "# define the year-value of built-up img\n",
    "year_val = dict(zip([f'{i}_{i+2}' for i in range(1990,2020,3)],range(10,0,-1)))\n",
    "year_val"
   ]
  },
  {
   "cell_type": "code",
   "execution_count": null,
   "id": "2cb9f992-e031-4c1e-ba3b-e2183630264a",
   "metadata": {},
   "outputs": [],
   "source": []
  },
  {
   "cell_type": "code",
   "execution_count": null,
   "id": "7fd4000a",
   "metadata": {},
   "outputs": [],
   "source": []
  },
  {
   "cell_type": "markdown",
   "id": "7004ce3a",
   "metadata": {},
   "source": [
    "### create U-NET model\n",
    "- UNET from the Pytorch HUB\n",
    "- https://pytorch.org/hub/mateuszbuda_brain-segmentation-pytorch_unet/"
   ]
  },
  {
   "cell_type": "code",
   "execution_count": null,
   "id": "99325576",
   "metadata": {},
   "outputs": [],
   "source": []
  },
  {
   "cell_type": "code",
   "execution_count": 8,
   "id": "6a9f25db",
   "metadata": {},
   "outputs": [
    {
     "ename": "ImportError",
     "evalue": "DLL load failed while importing _imaging: Access is denied.",
     "output_type": "error",
     "traceback": [
      "\u001b[1;31m---------------------------------------------------------------------------\u001b[0m",
      "\u001b[1;31mImportError\u001b[0m                               Traceback (most recent call last)",
      "Cell \u001b[1;32mIn[8], line 1\u001b[0m\n\u001b[1;32m----> 1\u001b[0m \u001b[38;5;28;01mfrom\u001b[39;00m \u001b[38;5;21;01mtorch_modules\u001b[39;00m\u001b[38;5;21;01m.\u001b[39;00m\u001b[38;5;21;01mUNET_model\u001b[39;00m \u001b[38;5;28;01mimport\u001b[39;00m UNET\n",
      "File \u001b[1;32mF:\\jinzhu\\Documents\\tmp_01_try_load_huge_hdf\\torch_modules\\UNET_model.py:3\u001b[0m\n\u001b[0;32m      1\u001b[0m \u001b[38;5;28;01mimport\u001b[39;00m \u001b[38;5;21;01mtorch\u001b[39;00m\n\u001b[0;32m      2\u001b[0m \u001b[38;5;28;01mimport\u001b[39;00m \u001b[38;5;21;01mtorch\u001b[39;00m\u001b[38;5;21;01m.\u001b[39;00m\u001b[38;5;21;01mnn\u001b[39;00m \u001b[38;5;28;01mas\u001b[39;00m \u001b[38;5;21;01mnn\u001b[39;00m\n\u001b[1;32m----> 3\u001b[0m \u001b[38;5;28;01mimport\u001b[39;00m \u001b[38;5;21;01mtorchvision\u001b[39;00m\u001b[38;5;21;01m.\u001b[39;00m\u001b[38;5;21;01mtransforms\u001b[39;00m\u001b[38;5;21;01m.\u001b[39;00m\u001b[38;5;21;01mfunctional\u001b[39;00m \u001b[38;5;28;01mas\u001b[39;00m \u001b[38;5;21;01mTF\u001b[39;00m\n\u001b[0;32m      5\u001b[0m \u001b[38;5;28;01mclass\u001b[39;00m \u001b[38;5;21;01mDoubleConv\u001b[39;00m(nn\u001b[38;5;241m.\u001b[39mModule):\n\u001b[0;32m      6\u001b[0m   \u001b[38;5;28;01mdef\u001b[39;00m \u001b[38;5;21m__init__\u001b[39m(\u001b[38;5;28mself\u001b[39m,in_channels,out_channels):\n",
      "File \u001b[1;32mf:\\jinzhu\\conda_env\\luto\\lib\\site-packages\\torchvision\\__init__.py:6\u001b[0m\n\u001b[0;32m      3\u001b[0m \u001b[38;5;28;01mfrom\u001b[39;00m \u001b[38;5;21;01mmodulefinder\u001b[39;00m \u001b[38;5;28;01mimport\u001b[39;00m Module\n\u001b[0;32m      5\u001b[0m \u001b[38;5;28;01mimport\u001b[39;00m \u001b[38;5;21;01mtorch\u001b[39;00m\n\u001b[1;32m----> 6\u001b[0m \u001b[38;5;28;01mfrom\u001b[39;00m \u001b[38;5;21;01mtorchvision\u001b[39;00m \u001b[38;5;28;01mimport\u001b[39;00m _meta_registrations, datasets, io, models, ops, transforms, utils\n\u001b[0;32m      8\u001b[0m \u001b[38;5;28;01mfrom\u001b[39;00m \u001b[38;5;21;01m.\u001b[39;00m\u001b[38;5;21;01mextension\u001b[39;00m \u001b[38;5;28;01mimport\u001b[39;00m _HAS_OPS\n\u001b[0;32m     10\u001b[0m \u001b[38;5;28;01mtry\u001b[39;00m:\n",
      "File \u001b[1;32mf:\\jinzhu\\conda_env\\luto\\lib\\site-packages\\torchvision\\datasets\\__init__.py:1\u001b[0m\n\u001b[1;32m----> 1\u001b[0m \u001b[38;5;28;01mfrom\u001b[39;00m \u001b[38;5;21;01m.\u001b[39;00m\u001b[38;5;21;01m_optical_flow\u001b[39;00m \u001b[38;5;28;01mimport\u001b[39;00m FlyingChairs, FlyingThings3D, HD1K, KittiFlow, Sintel\n\u001b[0;32m      2\u001b[0m \u001b[38;5;28;01mfrom\u001b[39;00m \u001b[38;5;21;01m.\u001b[39;00m\u001b[38;5;21;01m_stereo_matching\u001b[39;00m \u001b[38;5;28;01mimport\u001b[39;00m (\n\u001b[0;32m      3\u001b[0m     CarlaStereo,\n\u001b[0;32m      4\u001b[0m     CREStereo,\n\u001b[1;32m   (...)\u001b[0m\n\u001b[0;32m     12\u001b[0m     SintelStereo,\n\u001b[0;32m     13\u001b[0m )\n\u001b[0;32m     14\u001b[0m \u001b[38;5;28;01mfrom\u001b[39;00m \u001b[38;5;21;01m.\u001b[39;00m\u001b[38;5;21;01mcaltech\u001b[39;00m \u001b[38;5;28;01mimport\u001b[39;00m Caltech101, Caltech256\n",
      "File \u001b[1;32mf:\\jinzhu\\conda_env\\luto\\lib\\site-packages\\torchvision\\datasets\\_optical_flow.py:10\u001b[0m\n\u001b[0;32m      8\u001b[0m \u001b[38;5;28;01mimport\u001b[39;00m \u001b[38;5;21;01mnumpy\u001b[39;00m \u001b[38;5;28;01mas\u001b[39;00m \u001b[38;5;21;01mnp\u001b[39;00m\n\u001b[0;32m      9\u001b[0m \u001b[38;5;28;01mimport\u001b[39;00m \u001b[38;5;21;01mtorch\u001b[39;00m\n\u001b[1;32m---> 10\u001b[0m \u001b[38;5;28;01mfrom\u001b[39;00m \u001b[38;5;21;01mPIL\u001b[39;00m \u001b[38;5;28;01mimport\u001b[39;00m Image\n\u001b[0;32m     12\u001b[0m \u001b[38;5;28;01mfrom\u001b[39;00m \u001b[38;5;21;01m.\u001b[39;00m\u001b[38;5;21;01m.\u001b[39;00m\u001b[38;5;21;01mio\u001b[39;00m\u001b[38;5;21;01m.\u001b[39;00m\u001b[38;5;21;01mimage\u001b[39;00m \u001b[38;5;28;01mimport\u001b[39;00m _read_png_16\n\u001b[0;32m     13\u001b[0m \u001b[38;5;28;01mfrom\u001b[39;00m \u001b[38;5;21;01m.\u001b[39;00m\u001b[38;5;21;01mutils\u001b[39;00m \u001b[38;5;28;01mimport\u001b[39;00m _read_pfm, verify_str_arg\n",
      "File \u001b[1;32mf:\\jinzhu\\conda_env\\luto\\lib\\site-packages\\PIL\\Image.py:82\u001b[0m\n\u001b[0;32m     73\u001b[0m MAX_IMAGE_PIXELS \u001b[38;5;241m=\u001b[39m \u001b[38;5;28mint\u001b[39m(\u001b[38;5;241m1024\u001b[39m \u001b[38;5;241m*\u001b[39m \u001b[38;5;241m1024\u001b[39m \u001b[38;5;241m*\u001b[39m \u001b[38;5;241m1024\u001b[39m \u001b[38;5;241m/\u001b[39m\u001b[38;5;241m/\u001b[39m \u001b[38;5;241m4\u001b[39m \u001b[38;5;241m/\u001b[39m\u001b[38;5;241m/\u001b[39m \u001b[38;5;241m3\u001b[39m)\n\u001b[0;32m     76\u001b[0m \u001b[38;5;28;01mtry\u001b[39;00m:\n\u001b[0;32m     77\u001b[0m     \u001b[38;5;66;03m# If the _imaging C module is not present, Pillow will not load.\u001b[39;00m\n\u001b[0;32m     78\u001b[0m     \u001b[38;5;66;03m# Note that other modules should not refer to _imaging directly;\u001b[39;00m\n\u001b[0;32m     79\u001b[0m     \u001b[38;5;66;03m# import Image and use the Image.core variable instead.\u001b[39;00m\n\u001b[0;32m     80\u001b[0m     \u001b[38;5;66;03m# Also note that Image.core is not a publicly documented interface,\u001b[39;00m\n\u001b[0;32m     81\u001b[0m     \u001b[38;5;66;03m# and should be considered private and subject to change.\u001b[39;00m\n\u001b[1;32m---> 82\u001b[0m     \u001b[38;5;28;01mfrom\u001b[39;00m \u001b[38;5;21;01m.\u001b[39;00m \u001b[38;5;28;01mimport\u001b[39;00m _imaging \u001b[38;5;28;01mas\u001b[39;00m core\n\u001b[0;32m     84\u001b[0m     \u001b[38;5;28;01mif\u001b[39;00m __version__ \u001b[38;5;241m!=\u001b[39m \u001b[38;5;28mgetattr\u001b[39m(core, \u001b[38;5;124m\"\u001b[39m\u001b[38;5;124mPILLOW_VERSION\u001b[39m\u001b[38;5;124m\"\u001b[39m, \u001b[38;5;28;01mNone\u001b[39;00m):\n\u001b[0;32m     85\u001b[0m         msg \u001b[38;5;241m=\u001b[39m (\n\u001b[0;32m     86\u001b[0m             \u001b[38;5;124m\"\u001b[39m\u001b[38;5;124mThe _imaging extension was built for another version of Pillow or PIL:\u001b[39m\u001b[38;5;130;01m\\n\u001b[39;00m\u001b[38;5;124m\"\u001b[39m\n\u001b[0;32m     87\u001b[0m             \u001b[38;5;124mf\u001b[39m\u001b[38;5;124m\"\u001b[39m\u001b[38;5;124mCore version: \u001b[39m\u001b[38;5;132;01m{\u001b[39;00m\u001b[38;5;28mgetattr\u001b[39m(core,\u001b[38;5;250m \u001b[39m\u001b[38;5;124m'\u001b[39m\u001b[38;5;124mPILLOW_VERSION\u001b[39m\u001b[38;5;124m'\u001b[39m,\u001b[38;5;250m \u001b[39m\u001b[38;5;28;01mNone\u001b[39;00m)\u001b[38;5;132;01m}\u001b[39;00m\u001b[38;5;130;01m\\n\u001b[39;00m\u001b[38;5;124m\"\u001b[39m\n\u001b[0;32m     88\u001b[0m             \u001b[38;5;124mf\u001b[39m\u001b[38;5;124m\"\u001b[39m\u001b[38;5;124mPillow version: \u001b[39m\u001b[38;5;132;01m{\u001b[39;00m__version__\u001b[38;5;132;01m}\u001b[39;00m\u001b[38;5;124m\"\u001b[39m\n\u001b[0;32m     89\u001b[0m         )\n",
      "\u001b[1;31mImportError\u001b[0m: DLL load failed while importing _imaging: Access is denied."
     ]
    }
   ],
   "source": [
    "from torch_modules.UNET_model import UNET"
   ]
  },
  {
   "cell_type": "code",
   "execution_count": null,
   "id": "5880aba2-ebcb-4d55-bb43-b44ec97b4f09",
   "metadata": {},
   "outputs": [],
   "source": []
  },
  {
   "cell_type": "code",
   "execution_count": 5,
   "id": "60bd756d",
   "metadata": {
    "tags": []
   },
   "outputs": [
    {
     "name": "stdout",
     "output_type": "stream",
     "text": [
      "\n"
     ]
    }
   ],
   "source": [
    "model = UNET()\n",
    "\n",
    "# change the input_layer to match the input data\n",
    "model.downs[0] = nn.Sequential(\n",
    "                nn.Conv2d(IN_CHANNLE, 64, kernel_size=(3, 3), stride=(1, 1), padding=(1, 1), bias=False),\n",
    "                nn.BatchNorm2d(64),\n",
    "                nn.ReLU(),\n",
    "                nn.Conv2d(64, 64, kernel_size=(3, 3), stride=(1, 1), padding=(1, 1), bias=False),\n",
    "                nn.BatchNorm2d(64),\n",
    "                nn.ReLU())\n",
    "\n",
    "model.to(device)\n",
    "print()"
   ]
  },
  {
   "cell_type": "code",
   "execution_count": null,
   "id": "2af1d270",
   "metadata": {},
   "outputs": [],
   "source": []
  },
  {
   "cell_type": "code",
   "execution_count": null,
   "id": "25519def-6e62-448c-95bf-23d459563f2f",
   "metadata": {},
   "outputs": [],
   "source": []
  },
  {
   "cell_type": "code",
   "execution_count": 6,
   "id": "f255a0e2-7ca5-4eb0-894c-b898d362e876",
   "metadata": {},
   "outputs": [
    {
     "data": {
      "text/html": [
       "<div>\n",
       "<style scoped>\n",
       "    .dataframe tbody tr th:only-of-type {\n",
       "        vertical-align: middle;\n",
       "    }\n",
       "\n",
       "    .dataframe tbody tr th {\n",
       "        vertical-align: top;\n",
       "    }\n",
       "\n",
       "    .dataframe thead th {\n",
       "        text-align: right;\n",
       "    }\n",
       "</style>\n",
       "<table border=\"1\" class=\"dataframe\">\n",
       "  <thead>\n",
       "    <tr style=\"text-align: right;\">\n",
       "      <th></th>\n",
       "      <th>X</th>\n",
       "      <th>y</th>\n",
       "    </tr>\n",
       "  </thead>\n",
       "  <tbody>\n",
       "    <tr>\n",
       "      <th>0</th>\n",
       "      <td>../02_Data_on_disk/02_samples_npy_Fourier/dong...</td>\n",
       "      <td>../02_Data_on_disk/02_samples_npy_Built/dongbe...</td>\n",
       "    </tr>\n",
       "    <tr>\n",
       "      <th>1</th>\n",
       "      <td>../02_Data_on_disk/02_samples_npy_Fourier/dong...</td>\n",
       "      <td>../02_Data_on_disk/02_samples_npy_Built/dongbe...</td>\n",
       "    </tr>\n",
       "    <tr>\n",
       "      <th>2</th>\n",
       "      <td>../02_Data_on_disk/02_samples_npy_Fourier/dong...</td>\n",
       "      <td>../02_Data_on_disk/02_samples_npy_Built/dongbe...</td>\n",
       "    </tr>\n",
       "    <tr>\n",
       "      <th>3</th>\n",
       "      <td>../02_Data_on_disk/02_samples_npy_Fourier/dong...</td>\n",
       "      <td>../02_Data_on_disk/02_samples_npy_Built/dongbe...</td>\n",
       "    </tr>\n",
       "    <tr>\n",
       "      <th>4</th>\n",
       "      <td>../02_Data_on_disk/02_samples_npy_Fourier/dong...</td>\n",
       "      <td>../02_Data_on_disk/02_samples_npy_Built/dongbe...</td>\n",
       "    </tr>\n",
       "    <tr>\n",
       "      <th>...</th>\n",
       "      <td>...</td>\n",
       "      <td>...</td>\n",
       "    </tr>\n",
       "    <tr>\n",
       "      <th>5211</th>\n",
       "      <td>../02_Data_on_disk/02_samples_npy_Fourier/dong...</td>\n",
       "      <td>../02_Data_on_disk/02_samples_npy_Built/dongbe...</td>\n",
       "    </tr>\n",
       "    <tr>\n",
       "      <th>5212</th>\n",
       "      <td>../02_Data_on_disk/02_samples_npy_Fourier/dong...</td>\n",
       "      <td>../02_Data_on_disk/02_samples_npy_Built/dongbe...</td>\n",
       "    </tr>\n",
       "    <tr>\n",
       "      <th>5213</th>\n",
       "      <td>../02_Data_on_disk/02_samples_npy_Fourier/dong...</td>\n",
       "      <td>../02_Data_on_disk/02_samples_npy_Built/dongbe...</td>\n",
       "    </tr>\n",
       "    <tr>\n",
       "      <th>5214</th>\n",
       "      <td>../02_Data_on_disk/02_samples_npy_Fourier/dong...</td>\n",
       "      <td>../02_Data_on_disk/02_samples_npy_Built/dongbe...</td>\n",
       "    </tr>\n",
       "    <tr>\n",
       "      <th>5215</th>\n",
       "      <td>../02_Data_on_disk/02_samples_npy_Fourier/dong...</td>\n",
       "      <td>../02_Data_on_disk/02_samples_npy_Built/dongbe...</td>\n",
       "    </tr>\n",
       "  </tbody>\n",
       "</table>\n",
       "<p>5216 rows × 2 columns</p>\n",
       "</div>"
      ],
      "text/plain": [
       "                                                      X  \\\n",
       "0     ../02_Data_on_disk/02_samples_npy_Fourier/dong...   \n",
       "1     ../02_Data_on_disk/02_samples_npy_Fourier/dong...   \n",
       "2     ../02_Data_on_disk/02_samples_npy_Fourier/dong...   \n",
       "3     ../02_Data_on_disk/02_samples_npy_Fourier/dong...   \n",
       "4     ../02_Data_on_disk/02_samples_npy_Fourier/dong...   \n",
       "...                                                 ...   \n",
       "5211  ../02_Data_on_disk/02_samples_npy_Fourier/dong...   \n",
       "5212  ../02_Data_on_disk/02_samples_npy_Fourier/dong...   \n",
       "5213  ../02_Data_on_disk/02_samples_npy_Fourier/dong...   \n",
       "5214  ../02_Data_on_disk/02_samples_npy_Fourier/dong...   \n",
       "5215  ../02_Data_on_disk/02_samples_npy_Fourier/dong...   \n",
       "\n",
       "                                                      y  \n",
       "0     ../02_Data_on_disk/02_samples_npy_Built/dongbe...  \n",
       "1     ../02_Data_on_disk/02_samples_npy_Built/dongbe...  \n",
       "2     ../02_Data_on_disk/02_samples_npy_Built/dongbe...  \n",
       "3     ../02_Data_on_disk/02_samples_npy_Built/dongbe...  \n",
       "4     ../02_Data_on_disk/02_samples_npy_Built/dongbe...  \n",
       "...                                                 ...  \n",
       "5211  ../02_Data_on_disk/02_samples_npy_Built/dongbe...  \n",
       "5212  ../02_Data_on_disk/02_samples_npy_Built/dongbe...  \n",
       "5213  ../02_Data_on_disk/02_samples_npy_Built/dongbe...  \n",
       "5214  ../02_Data_on_disk/02_samples_npy_Built/dongbe...  \n",
       "5215  ../02_Data_on_disk/02_samples_npy_Built/dongbe...  \n",
       "\n",
       "[5216 rows x 2 columns]"
      ]
     },
     "execution_count": 6,
     "metadata": {},
     "output_type": "execute_result"
    }
   ],
   "source": [
    "# read X_y_path_df_filter \n",
    "X_y_path_df = pd.read_csv('../02_Data_on_disk/X_y_path_df.csv')\n",
    "X_y_path_df"
   ]
  },
  {
   "cell_type": "code",
   "execution_count": null,
   "id": "abc51f69-4de8-4704-ada6-3afba43e8f4a",
   "metadata": {},
   "outputs": [],
   "source": []
  },
  {
   "cell_type": "code",
   "execution_count": null,
   "id": "d147303d-45d1-48ab-b0bf-02873905d148",
   "metadata": {},
   "outputs": [],
   "source": []
  },
  {
   "cell_type": "code",
   "execution_count": 7,
   "id": "27b78655-40b5-4fd9-bd17-b76a04fb20bb",
   "metadata": {},
   "outputs": [],
   "source": [
    "# dataset class\n",
    "class X_y_dataset(Dataset):\n",
    "    def __init__(self,X_y_df):\n",
    "        self.X_y_df = X_y_df\n",
    "        \n",
    "    def __getitem__(self,index):\n",
    "        row = self.X_y_df.iloc[index]\n",
    "        X_path,y_path = row.tolist()\n",
    "        \n",
    "        # read X data\n",
    "        with GzipFile(X_path,'r') as f:\n",
    "            X_arry = np.load(f,allow_pickle=True)\n",
    "        X_tensor = torch.FloatTensor(X_arry)\n",
    "        # read y data\n",
    "        with GzipFile(y_path,'r') as f:\n",
    "            y_arry = np.load(f,allow_pickle=True)\n",
    "        y_tensor = torch.FloatTensor(y_arry)\n",
    "\n",
    "        # reclassify the y_tensor to match its year mapping\n",
    "        y_tensor = torch.where(y_tensor>year_val[year],1,0)\n",
    "        \n",
    "        return X_tensor,y_tensor\n",
    "    \n",
    "    def __len__(self):\n",
    "        return len(self.X_y_df)\n",
    "            \n",
    "            "
   ]
  },
  {
   "cell_type": "code",
   "execution_count": null,
   "id": "8141ff06-b53a-431f-960d-4a48459f789b",
   "metadata": {},
   "outputs": [],
   "source": []
  },
  {
   "cell_type": "code",
   "execution_count": 8,
   "id": "165aa0d9-f776-4a29-97e9-2986f68fb243",
   "metadata": {},
   "outputs": [],
   "source": [
    "# random split the X_y_df\n",
    "Sample_df = X_y_path_df.sample(SAMPLE_SIZE)\n",
    "\n",
    "train_df,test_df = train_test_split(Sample_df,test_size=0.2)\n",
    "\n",
    "train_dataset = X_y_dataset(train_df)\n",
    "train_data_loader = DataLoader(train_dataset,batch_size=BATCH_SIZE,shuffle=True,pin_memory=True,num_workers=12)\n",
    "\n",
    "test_dataset = X_y_dataset(test_df)\n",
    "test_data_loader = DataLoader(test_dataset,batch_size=BATCH_SIZE, pin_memory=True, num_workers=12)"
   ]
  },
  {
   "cell_type": "code",
   "execution_count": null,
   "id": "1edd9315-0e2f-4e1b-8f92-7eae0566327b",
   "metadata": {},
   "outputs": [],
   "source": []
  },
  {
   "cell_type": "code",
   "execution_count": null,
   "id": "f81f18c5",
   "metadata": {},
   "outputs": [],
   "source": []
  },
  {
   "cell_type": "markdown",
   "id": "d89df77a",
   "metadata": {},
   "source": [
    "### traning UNET"
   ]
  },
  {
   "cell_type": "code",
   "execution_count": 9,
   "id": "72177557",
   "metadata": {},
   "outputs": [],
   "source": [
    "# 1) define loss function\n",
    "criterion = torch.nn.BCELoss()\n",
    "\n",
    "# 2) difine optimizer\n",
    "optimizer = torch.optim.Adam(model.parameters())"
   ]
  },
  {
   "cell_type": "code",
   "execution_count": null,
   "id": "057432e1",
   "metadata": {},
   "outputs": [],
   "source": []
  },
  {
   "cell_type": "code",
   "execution_count": 10,
   "id": "0c01d9b8",
   "metadata": {},
   "outputs": [],
   "source": [
    "# function to evaluate the model\n",
    "def eval_model(model,loader):\n",
    "\n",
    "    # set to eval mode\n",
    "    model.eval()\n",
    "\n",
    "    # compute losses\n",
    "    losses = []\n",
    "    with torch.no_grad():\n",
    "        for data in tqdm(loader,total=len(loader)):\n",
    "\n",
    "            # get data, then send them to GPU\n",
    "            x = data[0].float().to(device)\n",
    "            y = data[1].squeeze(1).float().to(device)\n",
    "\n",
    "            # train the model\n",
    "            score = model(x).squeeze(1)\n",
    "\n",
    "            # compute loss\n",
    "            loss = criterion(score,y)\n",
    "            losses.append(loss.detach().cpu().item())\n",
    " \n",
    "    # change model back to training mode    \n",
    "    model.train()\n",
    "\n",
    "    return losses"
   ]
  },
  {
   "cell_type": "code",
   "execution_count": null,
   "id": "44fbbf60",
   "metadata": {},
   "outputs": [],
   "source": []
  },
  {
   "cell_type": "code",
   "execution_count": null,
   "id": "0904b3cd-663c-42cb-94c3-bc26b8266daf",
   "metadata": {},
   "outputs": [],
   "source": []
  },
  {
   "cell_type": "code",
   "execution_count": 11,
   "id": "612f1049",
   "metadata": {},
   "outputs": [],
   "source": [
    "def pred_one_img(img_path = '../03_Model_training/Train_model_pred_imgs'):\n",
    "    # load one img\n",
    "    x_arry = np.load(f'{img_path}/X_array.npy',allow_pickle=True)\n",
    "    x_img = torch.FloatTensor(x_arry).unsqueeze(0).to(device)\n",
    "\n",
    "    y_arry = np.load(f'{img_path}/y_array.npy',allow_pickle=True)\n",
    "\n",
    "    # passing the img to model\n",
    "    pred_img = model(x_img).cpu().detach().numpy()[0,0,:,:]\n",
    "    true_img = y_arry[0]\n",
    "\n",
    "    # save true-pred img to disk\n",
    "    concat_img = np.hstack([pred_img,true_img])\n",
    "    save_image(torch.tensor(concat_img),f\"{img_path}/train_pred_img_{epoch:03}.jpeg\")"
   ]
  },
  {
   "cell_type": "code",
   "execution_count": null,
   "id": "de279ccf",
   "metadata": {},
   "outputs": [],
   "source": []
  },
  {
   "cell_type": "code",
   "execution_count": null,
   "id": "0c195633-4daa-477c-9703-0fdcceac362e",
   "metadata": {},
   "outputs": [],
   "source": []
  },
  {
   "cell_type": "code",
   "execution_count": 12,
   "id": "fe222b91-1c67-4735-a20a-ab03824a6e0d",
   "metadata": {},
   "outputs": [],
   "source": [
    "# load the trained modle\n",
    "longest_trained_model = glob(f'../03_Model_training/Saved_models/{region}_{year}_progress_model*')\n",
    "if len(longest_trained_model) > 0:\n",
    "\n",
    "    # load historical training models\n",
    "    longest_trained_model = sorted(longest_trained_model)[-1]\n",
    "    model.load_state_dict(torch.load(longest_trained_model,map_location=torch.device(device)))\n",
    "    start_epoch = int(longest_trained_model[-7:-4])\n",
    "\n",
    "    metrics_df = pd.read_csv('../03_Model_training/Metrics_csv/metrics.csv',header=None)\n",
    "    best_loss = metrics_df[metrics_df[1]=='eval'][2].min()\n",
    "else:\n",
    "    start_epoch = 0\n",
    "    best_loss = 1e9\n",
    "    # empty the recored folders\n",
    "    files = [i for i in glob('../03_Model_training/Saved_models/*')]\n",
    "    files.extend(glob('../03_Model_training/Metrics_csv/*'))\n",
    "    files.extend(glob('../03_Model_training/Train_model_pred_imgs/*.jpeg'))\n",
    "    for i in files:\n",
    "        os.remove(i)\n",
    "        print(f'{i} has been deleted!')"
   ]
  },
  {
   "cell_type": "code",
   "execution_count": null,
   "id": "e20a42c7-b8b7-4fee-b7fb-6fc0fa7d9f98",
   "metadata": {},
   "outputs": [],
   "source": []
  },
  {
   "cell_type": "code",
   "execution_count": null,
   "id": "5f40bf9f-ad8f-4d2e-a552-9fdd047dc7d5",
   "metadata": {},
   "outputs": [],
   "source": []
  },
  {
   "cell_type": "code",
   "execution_count": null,
   "id": "11a2d080",
   "metadata": {
    "collapsed": true,
    "jupyter": {
     "outputs_hidden": true
    },
    "tags": []
   },
   "outputs": [
    {
     "name": "stderr",
     "output_type": "stream",
     "text": [
      "100%|██████████| 334/334 [04:51<00:00,  1.15it/s]\n",
      "100%|██████████| 84/84 [00:29<00:00,  2.85it/s]\n"
     ]
    },
    {
     "name": "stdout",
     "output_type": "stream",
     "text": [
      "The loss of 【180】 is: Train:0.01687 Eval:0.03318\n",
      "\n"
     ]
    },
    {
     "name": "stderr",
     "output_type": "stream",
     "text": [
      "100%|██████████| 334/334 [04:44<00:00,  1.17it/s]\n",
      "100%|██████████| 84/84 [00:30<00:00,  2.74it/s]\n"
     ]
    },
    {
     "name": "stdout",
     "output_type": "stream",
     "text": [
      "The loss of 【181】 is: Train:0.01645 Eval:0.07733\n",
      "\n"
     ]
    },
    {
     "name": "stderr",
     "output_type": "stream",
     "text": [
      "100%|██████████| 334/334 [04:45<00:00,  1.17it/s]\n",
      "100%|██████████| 84/84 [00:30<00:00,  2.72it/s]\n"
     ]
    },
    {
     "name": "stdout",
     "output_type": "stream",
     "text": [
      "The loss of 【182】 is: Train:0.01666 Eval:0.02702\n",
      "\n"
     ]
    },
    {
     "name": "stderr",
     "output_type": "stream",
     "text": [
      "100%|██████████| 334/334 [04:46<00:00,  1.17it/s]\n",
      "100%|██████████| 84/84 [00:30<00:00,  2.73it/s]\n"
     ]
    },
    {
     "name": "stdout",
     "output_type": "stream",
     "text": [
      "The loss of 【183】 is: Train:0.01655 Eval:0.05190\n",
      "\n"
     ]
    },
    {
     "name": "stderr",
     "output_type": "stream",
     "text": [
      "100%|██████████| 334/334 [04:44<00:00,  1.17it/s]\n",
      "100%|██████████| 84/84 [00:29<00:00,  2.81it/s]\n"
     ]
    },
    {
     "name": "stdout",
     "output_type": "stream",
     "text": [
      "The loss of 【184】 is: Train:0.01557 Eval:0.06198\n",
      "\n"
     ]
    },
    {
     "name": "stderr",
     "output_type": "stream",
     "text": [
      "100%|██████████| 334/334 [04:45<00:00,  1.17it/s]\n",
      "100%|██████████| 84/84 [00:30<00:00,  2.78it/s]\n"
     ]
    },
    {
     "name": "stdout",
     "output_type": "stream",
     "text": [
      "The loss of 【185】 is: Train:0.01592 Eval:0.10710\n",
      "\n"
     ]
    },
    {
     "name": "stderr",
     "output_type": "stream",
     "text": [
      "100%|██████████| 334/334 [04:44<00:00,  1.17it/s]\n",
      "100%|██████████| 84/84 [00:29<00:00,  2.83it/s]\n"
     ]
    },
    {
     "name": "stdout",
     "output_type": "stream",
     "text": [
      "The loss of 【186】 is: Train:0.01595 Eval:0.03698\n",
      "\n"
     ]
    },
    {
     "name": "stderr",
     "output_type": "stream",
     "text": [
      "100%|██████████| 334/334 [04:43<00:00,  1.18it/s]\n",
      "100%|██████████| 84/84 [00:29<00:00,  2.84it/s]\n"
     ]
    },
    {
     "name": "stdout",
     "output_type": "stream",
     "text": [
      "The loss of 【187】 is: Train:0.01568 Eval:0.06150\n",
      "\n"
     ]
    },
    {
     "name": "stderr",
     "output_type": "stream",
     "text": [
      "100%|██████████| 334/334 [04:44<00:00,  1.17it/s]\n",
      "100%|██████████| 84/84 [00:29<00:00,  2.85it/s]\n"
     ]
    },
    {
     "name": "stdout",
     "output_type": "stream",
     "text": [
      "The loss of 【188】 is: Train:0.01586 Eval:0.05663\n",
      "\n"
     ]
    },
    {
     "name": "stderr",
     "output_type": "stream",
     "text": [
      "100%|██████████| 334/334 [04:44<00:00,  1.17it/s]\n",
      "100%|██████████| 84/84 [00:30<00:00,  2.80it/s]\n"
     ]
    },
    {
     "name": "stdout",
     "output_type": "stream",
     "text": [
      "The loss of 【189】 is: Train:0.01564 Eval:0.06153\n",
      "\n"
     ]
    },
    {
     "name": "stderr",
     "output_type": "stream",
     "text": [
      "100%|██████████| 334/334 [04:44<00:00,  1.17it/s]\n",
      "100%|██████████| 84/84 [00:29<00:00,  2.81it/s]\n"
     ]
    },
    {
     "name": "stdout",
     "output_type": "stream",
     "text": [
      "The loss of 【190】 is: Train:0.01526 Eval:0.07174\n",
      "\n"
     ]
    },
    {
     "name": "stderr",
     "output_type": "stream",
     "text": [
      "100%|██████████| 334/334 [04:44<00:00,  1.17it/s]\n",
      "100%|██████████| 84/84 [00:30<00:00,  2.80it/s]\n"
     ]
    },
    {
     "name": "stdout",
     "output_type": "stream",
     "text": [
      "The loss of 【191】 is: Train:0.01532 Eval:0.05296\n",
      "\n"
     ]
    },
    {
     "name": "stderr",
     "output_type": "stream",
     "text": [
      "100%|██████████| 334/334 [04:45<00:00,  1.17it/s]\n",
      "100%|██████████| 84/84 [00:30<00:00,  2.79it/s]\n"
     ]
    },
    {
     "name": "stdout",
     "output_type": "stream",
     "text": [
      "The loss of 【192】 is: Train:0.01573 Eval:0.06898\n",
      "\n"
     ]
    },
    {
     "name": "stderr",
     "output_type": "stream",
     "text": [
      "100%|██████████| 334/334 [04:46<00:00,  1.17it/s]\n",
      "100%|██████████| 84/84 [00:30<00:00,  2.78it/s]\n"
     ]
    },
    {
     "name": "stdout",
     "output_type": "stream",
     "text": [
      "The loss of 【193】 is: Train:0.01490 Eval:0.08792\n",
      "\n"
     ]
    },
    {
     "name": "stderr",
     "output_type": "stream",
     "text": [
      "100%|██████████| 334/334 [04:45<00:00,  1.17it/s]\n",
      "100%|██████████| 84/84 [00:29<00:00,  2.82it/s]\n"
     ]
    },
    {
     "name": "stdout",
     "output_type": "stream",
     "text": [
      "The loss of 【194】 is: Train:0.01525 Eval:0.06089\n",
      "\n"
     ]
    },
    {
     "name": "stderr",
     "output_type": "stream",
     "text": [
      "100%|██████████| 334/334 [04:44<00:00,  1.17it/s]\n",
      "100%|██████████| 84/84 [00:30<00:00,  2.77it/s]\n"
     ]
    },
    {
     "name": "stdout",
     "output_type": "stream",
     "text": [
      "The loss of 【195】 is: Train:0.01540 Eval:0.06189\n",
      "\n"
     ]
    },
    {
     "name": "stderr",
     "output_type": "stream",
     "text": [
      "100%|██████████| 334/334 [04:45<00:00,  1.17it/s]\n",
      "100%|██████████| 84/84 [00:29<00:00,  2.80it/s]\n"
     ]
    },
    {
     "name": "stdout",
     "output_type": "stream",
     "text": [
      "The loss of 【196】 is: Train:0.01507 Eval:0.04955\n",
      "\n"
     ]
    },
    {
     "name": "stderr",
     "output_type": "stream",
     "text": [
      "100%|██████████| 334/334 [04:44<00:00,  1.17it/s]\n",
      "100%|██████████| 84/84 [00:29<00:00,  2.83it/s]\n"
     ]
    },
    {
     "name": "stdout",
     "output_type": "stream",
     "text": [
      "The loss of 【197】 is: Train:0.01488 Eval:0.09685\n",
      "\n"
     ]
    },
    {
     "name": "stderr",
     "output_type": "stream",
     "text": [
      "100%|██████████| 334/334 [04:43<00:00,  1.18it/s]\n",
      "100%|██████████| 84/84 [00:29<00:00,  2.85it/s]\n"
     ]
    },
    {
     "name": "stdout",
     "output_type": "stream",
     "text": [
      "The loss of 【198】 is: Train:0.01510 Eval:0.12046\n",
      "\n"
     ]
    },
    {
     "name": "stderr",
     "output_type": "stream",
     "text": [
      "100%|██████████| 334/334 [04:43<00:00,  1.18it/s]\n",
      "100%|██████████| 84/84 [00:29<00:00,  2.88it/s]\n"
     ]
    },
    {
     "name": "stdout",
     "output_type": "stream",
     "text": [
      "The loss of 【199】 is: Train:0.01465 Eval:0.07031\n",
      "\n"
     ]
    },
    {
     "name": "stderr",
     "output_type": "stream",
     "text": [
      "100%|██████████| 334/334 [04:43<00:00,  1.18it/s]\n",
      "100%|██████████| 84/84 [00:29<00:00,  2.81it/s]\n"
     ]
    },
    {
     "name": "stdout",
     "output_type": "stream",
     "text": [
      "The loss of 【200】 is: Train:0.01483 Eval:0.09591\n",
      "\n"
     ]
    },
    {
     "name": "stderr",
     "output_type": "stream",
     "text": [
      "100%|██████████| 334/334 [04:44<00:00,  1.17it/s]\n",
      "100%|██████████| 84/84 [00:29<00:00,  2.81it/s]\n"
     ]
    },
    {
     "name": "stdout",
     "output_type": "stream",
     "text": [
      "The loss of 【201】 is: Train:0.01510 Eval:0.03477\n",
      "\n"
     ]
    },
    {
     "name": "stderr",
     "output_type": "stream",
     "text": [
      "100%|██████████| 334/334 [04:44<00:00,  1.17it/s]\n",
      "100%|██████████| 84/84 [00:29<00:00,  2.82it/s]\n"
     ]
    },
    {
     "name": "stdout",
     "output_type": "stream",
     "text": [
      "The loss of 【202】 is: Train:0.01552 Eval:0.02596\n",
      "\n"
     ]
    },
    {
     "name": "stderr",
     "output_type": "stream",
     "text": [
      "100%|██████████| 334/334 [04:44<00:00,  1.17it/s]\n",
      "100%|██████████| 84/84 [00:30<00:00,  2.79it/s]\n"
     ]
    },
    {
     "name": "stdout",
     "output_type": "stream",
     "text": [
      "The loss of 【203】 is: Train:0.01493 Eval:0.06188\n",
      "\n"
     ]
    },
    {
     "name": "stderr",
     "output_type": "stream",
     "text": [
      "100%|██████████| 334/334 [04:45<00:00,  1.17it/s]\n",
      "100%|██████████| 84/84 [00:30<00:00,  2.78it/s]\n"
     ]
    },
    {
     "name": "stdout",
     "output_type": "stream",
     "text": [
      "The loss of 【204】 is: Train:0.01490 Eval:0.04042\n",
      "\n"
     ]
    },
    {
     "name": "stderr",
     "output_type": "stream",
     "text": [
      "100%|██████████| 334/334 [04:46<00:00,  1.17it/s]\n",
      "100%|██████████| 84/84 [00:30<00:00,  2.75it/s]\n"
     ]
    },
    {
     "name": "stdout",
     "output_type": "stream",
     "text": [
      "The loss of 【205】 is: Train:0.01503 Eval:0.03022\n",
      "\n"
     ]
    },
    {
     "name": "stderr",
     "output_type": "stream",
     "text": [
      " 47%|████▋     | 158/334 [02:17<02:27,  1.19it/s]"
     ]
    }
   ],
   "source": [
    "for epoch in range(start_epoch,NUM_EPOCH+1):\n",
    "    \n",
    "    train_losses = []\n",
    "    for data in tqdm(train_data_loader,total=len(train_data_loader)):\n",
    "        # model(data)\n",
    "        X_data = data[0].float().to(device)\n",
    "        y = data[1].squeeze(1).float().to(device)\n",
    "\n",
    "        # prediction\n",
    "        y_hat = model(X_data).squeeze(1)\n",
    "\n",
    "        # compute loss\n",
    "        loss = criterion(y_hat,y)\n",
    "\n",
    "        # automatically update model parameters\n",
    "        optimizer.zero_grad()\n",
    "        loss.backward()\n",
    "        optimizer.step()\n",
    "        \n",
    "        # record the tranin loss\n",
    "        train_losses.append(loss.detach().cpu().item())\n",
    "    \n",
    "    # compute the avg. train loss\n",
    "    train_losses_mean = np.array(train_losses).mean()\n",
    "\n",
    "    # compute the avg. test loss\n",
    "    test_losses = eval_model(model,test_data_loader)\n",
    "    test_losses_mean = np.array(test_losses).mean()\n",
    "\n",
    "    # write metric to disk\n",
    "    with open('../03_Model_training/Metrics_csv/metrics.csv', 'a') as f:\n",
    "        f.write(f'{epoch},train,{train_losses_mean}\\n')\n",
    "        f.write(f'{epoch},eval,{test_losses_mean}\\n')\n",
    "\n",
    "    # pred a picture and save it to disk\n",
    "    pred_one_img()\n",
    "\n",
    "    # save models to disk\n",
    "    model_path = '../03_Model_training/Saved_models'\n",
    "\n",
    "    # save best models\n",
    "    if test_losses_mean < best_loss:\n",
    "        # update best_loss\n",
    "        best_loss = test_losses_mean\n",
    "        # save model to disk\n",
    "        torch.save(model.state_dict(), f'{model_path}/{region}_{year}_best_model_{epoch:03}.tar')\n",
    "\n",
    "    # save model for every 5 eopch\n",
    "    if (epoch)%5 == 0:\n",
    "        # save model to disk\n",
    "        torch.save(model.state_dict(), f'{model_path}/{region}_{year}_progress_model_{epoch:03}.tar')\n",
    "\n",
    "\n",
    "    # report the training process\n",
    "    print(f\"The loss of 【{epoch:03}】 is: Train:{train_losses_mean:.5f} Eval:{test_losses_mean:.5f}\\n\")"
   ]
  },
  {
   "cell_type": "code",
   "execution_count": null,
   "id": "b48c7785-1d10-4884-98ec-b604fd246d60",
   "metadata": {},
   "outputs": [],
   "source": []
  },
  {
   "cell_type": "code",
   "execution_count": null,
   "id": "347ff7ca-b636-4512-b28d-a4ce825f4423",
   "metadata": {},
   "outputs": [],
   "source": []
  },
  {
   "cell_type": "code",
   "execution_count": null,
   "id": "8243911c",
   "metadata": {},
   "outputs": [],
   "source": []
  },
  {
   "cell_type": "markdown",
   "id": "1b1e3f07",
   "metadata": {},
   "source": [
    "### plot losses"
   ]
  },
  {
   "cell_type": "code",
   "execution_count": 13,
   "id": "5fb5b2d3",
   "metadata": {},
   "outputs": [],
   "source": [
    "# read csv\n",
    "loss_df = pd.read_csv('./Metrics_csv/metrics.csv',header=None)\n",
    "\n",
    "# set headers\n",
    "loss_df.columns = ['epoch','type','val']"
   ]
  },
  {
   "cell_type": "code",
   "execution_count": null,
   "id": "98ff4cfb",
   "metadata": {},
   "outputs": [],
   "source": []
  },
  {
   "cell_type": "code",
   "execution_count": 14,
   "id": "c76197e4",
   "metadata": {},
   "outputs": [
    {
     "data": {
      "text/plain": [
       "<Axes: xlabel='epoch', ylabel='val'>"
      ]
     },
     "execution_count": 14,
     "metadata": {},
     "output_type": "execute_result"
    },
    {
     "data": {
      "image/png": "[encoded data removed]",
      "text/plain": [
       "<Figure size 640x480 with 1 Axes>"
      ]
     },
     "metadata": {},
     "output_type": "display_data"
    }
   ],
   "source": [
    "# plot\n",
    "sns.lineplot(loss_df >> mask(X.val < 0.1),x='epoch',y='val',hue='type')"
   ]
  },
  {
   "cell_type": "code",
   "execution_count": null,
   "id": "8578ffce",
   "metadata": {},
   "outputs": [],
   "source": []
  },
  {
   "cell_type": "code",
   "execution_count": null,
   "id": "3b259ba5-9eae-4998-a97a-82eec2d153a9",
   "metadata": {},
   "outputs": [],
   "source": []
  },
  {
   "cell_type": "code",
   "execution_count": null,
   "id": "97c3a4c6",
   "metadata": {},
   "outputs": [],
   "source": []
  },
  {
   "cell_type": "code",
   "execution_count": null,
   "id": "e45c8ec8",
   "metadata": {},
   "outputs": [],
   "source": []
  },
  {
   "cell_type": "code",
   "execution_count": null,
   "id": "3b94709e",
   "metadata": {},
   "outputs": [],
   "source": []
  },
  {
   "cell_type": "code",
   "execution_count": null,
   "id": "842dec2e",
   "metadata": {},
   "outputs": [],
   "source": []
  },
  {
   "cell_type": "code",
   "execution_count": null,
   "id": "6c87dedf",
   "metadata": {},
   "outputs": [],
   "source": []
  }
 ],
 "metadata": {
  "kernelspec": {
   "display_name": "Python 3 (ipykernel)",
   "language": "python",
   "name": "python3"
  },
  "language_info": {
   "codemirror_mode": {
    "name": "ipython",
    "version": 3
   },
   "file_extension": ".py",
   "mimetype": "text/x-python",
   "name": "python",
   "nbconvert_exporter": "python",
   "pygments_lexer": "ipython3",
   "version": "3.8.17"
  }
 },
 "nbformat": 4,
 "nbformat_minor": 5
}
