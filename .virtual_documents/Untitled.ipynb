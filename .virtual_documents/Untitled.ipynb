import h5py
from osgeo import gdal
import rasterio
import numpy 
import geopandas as gpd
import pandas as pd
import seaborn as sns

from tqdm.auto import tqdm





# sample window
window_size = 512





# load the China_built_tif
China_built = rasterio.open('./data_cache/Built_up_China_1990_2019.tif')
China_built_trans = China_built.transform
China_built_arry = China_built.read()

# load the sample_pts
sample_pts = gpd.GeoDataFrame(pd.read_pickle('./data_cache/sample_pts_xinan_2023_10_10.pkl'))





# update the row/col of sample_pts
sample_pts[['col','row']] = sample_pts['geometry'].apply(lambda geo:~China_built_trans*(geo.x,geo.y)).tolist()

# show the row/col
sns.scatterplot(x=sample_pts['col'],y=-sample_pts['row'],size=0.1)





# Open the HDF5 file in write mode
with h5py.File(f'./data_cache/Sample_npy/built_array.hdf', 'w') as file:

    # loop through points
    for idx,line in tqdm(sample_pts.iterrows(),total=len(sample_pts)):
        row,col = line[['row','row']]
        row,col = int(row),int(col)
        ds_arr = China_built_arry[:,
                                  row:row+window_size,
                                  col:col+window_size,]
        
        # Create datasets and save the NumPy arrays
        file.create_dataset(f'{idx:>08}', data=ds_arr, compression=6)













































