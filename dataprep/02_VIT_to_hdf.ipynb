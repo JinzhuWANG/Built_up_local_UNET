{
 "cells": [
  {
   "cell_type": "code",
   "execution_count": 1,
   "id": "a393b77a-dfcd-4066-a3a9-999992984a53",
   "metadata": {},
   "outputs": [],
   "source": [
    "import os\n",
    "import re\n",
    "import pandas as pd\n",
    "from glob import glob\n",
    "\n",
    "from tqdm.auto import tqdm\n",
    "import pandas as pd\n",
    "\n",
    "from functools import partial\n",
    "from dfply import *\n",
    "from tools import vrt2hdf, get_str_info"
   ]
  },
  {
   "cell_type": "code",
   "execution_count": null,
   "id": "3c5da0bc-0afc-4e6c-90f3-5feeabdaf2f0",
   "metadata": {},
   "outputs": [],
   "source": []
  },
  {
   "cell_type": "code",
   "execution_count": 2,
   "id": "81f4779c-0688-4e17-a541-7ad635edc107",
   "metadata": {
    "tags": []
   },
   "outputs": [],
   "source": [
    "# define the path to save hdf files\n",
    "save_path = \"N:\\LUF-Modelling\\LUTO2_JZ\\Built_map\\hdf\"\n",
    "\n",
    "# get all VRT files\n",
    "VRT_files = glob('../out_data/*.vrt')\n",
    "VRT_bases = ['_'.join(get_str_info(i)) for i in VRT_files]\n",
    "\n",
    "# exclude the VRT files that alread processed\n",
    "if not os.path.exists('vrt2hdf_complete.csv'):\n",
    "    with open('vrt2hdf_complete.csv','w'): pass\n",
    "    hdf_exist = []\n",
    "else:\n",
    "    hdf_exist = (pd.read_csv('vrt2hdf_complete.csv',header=None)>> mask(X[0] != 'None'))[0].tolist()\n",
    "    hdf_exist = ['_'.join(get_str_info(i)) for i in hdf_exist]\n",
    "\n",
    "# get the VRT files that has not been processed\n",
    "VRT_to_process = set(VRT_bases) - set(hdf_exist)\n",
    "\n",
    "# sort files from latest to oldest\n",
    "reg_year = re.compile(r'\\d{4}_\\d{4}')\n",
    "VRT_files = [f\"../out_data/{i}.vrt\" for i in VRT_to_process]\n",
    "VRT_files = sorted(VRT_files,key=lambda x:reg_year.findall(x)[0],reverse=True)"
   ]
  },
  {
   "cell_type": "code",
   "execution_count": null,
   "id": "d5bec20d-8254-4bf5-a7ac-37147649188d",
   "metadata": {},
   "outputs": [],
   "source": []
  },
  {
   "cell_type": "code",
   "execution_count": 4,
   "id": "b6832313-a38b-4a3d-a004-0d23d6be06d4",
   "metadata": {},
   "outputs": [],
   "source": [
    "def retry_convertion(func, max_retries = 3):\n",
    "    def wraper(vrt,save_path):\n",
    "        attempts = 0\n",
    "        while attempts < max_retries:\n",
    "            try:\n",
    "                # convert vrt to hdf, the function return nothing\n",
    "                out = func(vrt,save_path)\n",
    "                \n",
    "                # write the sccessefuly transfered files        \n",
    "                with open('./vrt2hdf_complete.csv','a',encoding='utf-8') as f:\n",
    "                    f.write(f\"{vrt}\\n\")   \n",
    "                return out\n",
    "            \n",
    "            except:\n",
    "                attempts = attempts + 1\n",
    "                print(f\"Convert of {vrt} failed! Retrying {attempts}/{max_retries}\")\n",
    "                \n",
    "        # if passed the max_retries, then write the failed files\n",
    "        with open('./vrt2hdf_incomplete.csv','a',encoding='utf-8') as f:\n",
    "                    f.write(f\"{vrt}\\n\")\n",
    "                \n",
    "    return wraper      "
   ]
  },
  {
   "cell_type": "code",
   "execution_count": null,
   "id": "a2c4c77b-8c09-42f4-b658-9483b07a7589",
   "metadata": {},
   "outputs": [],
   "source": []
  },
  {
   "cell_type": "code",
   "execution_count": 5,
   "id": "c7054b22-e10c-4ac7-a0b9-ac74d789d377",
   "metadata": {},
   "outputs": [],
   "source": [
    "# apply the decorator\n",
    "vrt2hdf = retry_convertion(vrt2hdf)"
   ]
  },
  {
   "cell_type": "code",
   "execution_count": null,
   "id": "9dff0357-6b8b-4f73-825c-4e5264620af4",
   "metadata": {},
   "outputs": [],
   "source": []
  },
  {
   "cell_type": "code",
   "execution_count": null,
   "id": "02d8ad5a-6f79-463d-b255-9462d5328358",
   "metadata": {},
   "outputs": [],
   "source": []
  },
  {
   "cell_type": "code",
   "execution_count": 6,
   "id": "d8f573a2-93f7-4be3-a9f4-f5bd08521a3c",
   "metadata": {},
   "outputs": [
    {
     "data": {
      "application/vnd.jupyter.widget-view+json": {
       "model_id": "7d7468c82d2c4516b402770251592172",
       "version_major": 2,
       "version_minor": 0
      },
      "text/plain": [
       "  0%|          | 0/9 [00:00<?, ?it/s]"
      ]
     },
     "metadata": {},
     "output_type": "display_data"
    },
    {
     "data": {
      "application/vnd.jupyter.widget-view+json": {
       "model_id": "e513188fcb834679b8b7c802e98c46e9",
       "version_major": 2,
       "version_minor": 0
      },
      "text/plain": [
       "Saving xinan_terrain_1990_2020.vrt to HDF \n",
       ":   0%|          | 0/410290 [00:00<?, ?it/s]"
      ]
     },
     "metadata": {},
     "output_type": "display_data"
    },
    {
     "data": {
      "application/vnd.jupyter.widget-view+json": {
       "model_id": "f238e5bc8d944a1fb92945f3d34b7d81",
       "version_major": 2,
       "version_minor": 0
      },
      "text/plain": [
       "Saving huabei_terrain_1990_2020.vrt to HDF \n",
       ":   0%|          | 0/455872 [00:00<?, ?it/s]"
      ]
     },
     "metadata": {},
     "output_type": "display_data"
    },
    {
     "data": {
      "application/vnd.jupyter.widget-view+json": {
       "model_id": "be9c3f8f73d7452792fa7e305438137e",
       "version_major": 2,
       "version_minor": 0
      },
      "text/plain": [
       "Saving zhongnan_terrain_1990_2020.vrt to HDF \n",
       ":   0%|          | 0/194832 [00:00<?, ?it/s]"
      ]
     },
     "metadata": {},
     "output_type": "display_data"
    },
    {
     "data": {
      "application/vnd.jupyter.widget-view+json": {
       "model_id": "2c434b9ee6b94cfba09381497405a11b",
       "version_major": 2,
       "version_minor": 0
      },
      "text/plain": [
       "Saving xibei_terrain_1990_2020.vrt to HDF \n",
       ":   0%|          | 0/561664 [00:00<?, ?it/s]"
      ]
     },
     "metadata": {},
     "output_type": "display_data"
    },
    {
     "data": {
      "application/vnd.jupyter.widget-view+json": {
       "model_id": "2da1d219356d4b64a94818084d6d748c",
       "version_major": 2,
       "version_minor": 0
      },
      "text/plain": [
       "Saving dongbei_terrain_1990_2020.vrt to HDF \n",
       ":   0%|          | 0/203432 [00:00<?, ?it/s]"
      ]
     },
     "metadata": {},
     "output_type": "display_data"
    },
    {
     "data": {
      "application/vnd.jupyter.widget-view+json": {
       "model_id": "14c6d12b7cf44315a209a7f1ef83b15c",
       "version_major": 2,
       "version_minor": 0
      },
      "text/plain": [
       "Saving xinan_Landsat_cloud_free_2014_2016.vrt to HDF \n",
       ":   0%|          | 0/410290 [00:00<?, ?it/s]"
      ]
     },
     "metadata": {},
     "output_type": "display_data"
    },
    {
     "data": {
      "application/vnd.jupyter.widget-view+json": {
       "model_id": "463f7ed185454d75863a242d94e744aa",
       "version_major": 2,
       "version_minor": 0
      },
      "text/plain": [
       "Saving zhongnan_Landsat_cloud_free_2014_2016.vrt to HDF \n",
       ":   0%|          | 0/194832 [00:00<?, ?it/s]"
      ]
     },
     "metadata": {},
     "output_type": "display_data"
    },
    {
     "data": {
      "application/vnd.jupyter.widget-view+json": {
       "model_id": "69d1431ac64e49a89128f424e55162fc",
       "version_major": 2,
       "version_minor": 0
      },
      "text/plain": [
       "Saving xibei_Landsat_cloud_free_2014_2016.vrt to HDF \n",
       ":   0%|          | 0/561664 [00:00<?, ?it/s]"
      ]
     },
     "metadata": {},
     "output_type": "display_data"
    },
    {
     "data": {
      "application/vnd.jupyter.widget-view+json": {
       "model_id": "208ccfdb21e04d1bb28edc743a765e5c",
       "version_major": 2,
       "version_minor": 0
      },
      "text/plain": [
       "Saving huadong_terrain_1990_2020.vrt to HDF \n",
       ":   0%|          | 0/128044 [00:00<?, ?it/s]"
      ]
     },
     "metadata": {},
     "output_type": "display_data"
    }
   ],
   "source": [
    "for vrt in tqdm(VRT_files,total=len(VRT_files)):\n",
    "    successed = vrt2hdf(vrt,save_path)"
   ]
  },
  {
   "cell_type": "code",
   "execution_count": null,
   "id": "6c0f385d-f456-40d5-8782-350113b8b642",
   "metadata": {},
   "outputs": [],
   "source": []
  },
  {
   "cell_type": "code",
   "execution_count": null,
   "id": "838f6f7e-b902-4b4f-aa47-7aa3aaaf804b",
   "metadata": {},
   "outputs": [],
   "source": []
  },
  {
   "cell_type": "code",
   "execution_count": null,
   "id": "efb21ef5-a3f2-4811-81a2-3518f2e11f77",
   "metadata": {},
   "outputs": [],
   "source": []
  },
  {
   "cell_type": "code",
   "execution_count": null,
   "id": "e7b9c16e-20d7-4000-ac6f-3aad06426ad6",
   "metadata": {},
   "outputs": [],
   "source": []
  },
  {
   "cell_type": "code",
   "execution_count": null,
   "id": "6f1c6a6b-54b4-4e47-b51b-2149d75a657d",
   "metadata": {},
   "outputs": [],
   "source": []
  },
  {
   "cell_type": "code",
   "execution_count": null,
   "id": "9e507a09-d648-47a2-b6e3-f5e33291d3e1",
   "metadata": {},
   "outputs": [],
   "source": []
  },
  {
   "cell_type": "code",
   "execution_count": null,
   "id": "fd002446-1401-4db4-8131-aa75c4b67607",
   "metadata": {},
   "outputs": [],
   "source": []
  },
  {
   "cell_type": "code",
   "execution_count": null,
   "id": "a1728661-17bc-400e-bbff-da09068e8090",
   "metadata": {},
   "outputs": [],
   "source": []
  },
  {
   "cell_type": "code",
   "execution_count": null,
   "id": "efa3ebba-2306-4c15-93a4-1e4b39571fbc",
   "metadata": {},
   "outputs": [],
   "source": []
  },
  {
   "cell_type": "code",
   "execution_count": null,
   "id": "35858e8c-2fbe-40a0-aff6-7b04fa2168d8",
   "metadata": {},
   "outputs": [],
   "source": []
  },
  {
   "cell_type": "code",
   "execution_count": null,
   "id": "3bf3be51-689f-44e6-a0a3-14595032a23e",
   "metadata": {},
   "outputs": [],
   "source": []
  },
  {
   "cell_type": "code",
   "execution_count": null,
   "id": "aa754fe8-6baa-4c04-9b2c-82daaddfb732",
   "metadata": {},
   "outputs": [],
   "source": []
  },
  {
   "cell_type": "code",
   "execution_count": null,
   "id": "2f3017e1-00b9-4ce9-a2e4-eb9ca1bdbb49",
   "metadata": {},
   "outputs": [],
   "source": []
  },
  {
   "cell_type": "code",
   "execution_count": null,
   "id": "9c2afad6-d20a-4e16-bc86-b7929277dc69",
   "metadata": {},
   "outputs": [],
   "source": []
  }
 ],
 "metadata": {
  "kernelspec": {
   "display_name": "Python 3 (ipykernel)",
   "language": "python",
   "name": "python3"
  },
  "language_info": {
   "codemirror_mode": {
    "name": "ipython",
    "version": 3
   },
   "file_extension": ".py",
   "mimetype": "text/x-python",
   "name": "python",
   "nbconvert_exporter": "python",
   "pygments_lexer": "ipython3",
   "version": "3.10.9"
  }
 },
 "nbformat": 4,
 "nbformat_minor": 5
}
