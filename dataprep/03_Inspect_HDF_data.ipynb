{
 "cells": [
  {
   "cell_type": "code",
   "execution_count": 1,
   "id": "55e0b887-18a6-4eca-89c0-132212b99211",
   "metadata": {},
   "outputs": [],
   "source": [
    "import h5py\n",
    "import numpy as np\n",
    "import pandas as pd\n",
    "import matplotlib.pyplot as plt"
   ]
  },
  {
   "cell_type": "code",
   "execution_count": null,
   "id": "6dbbc937-be49-4efc-891c-f7c256e00e33",
   "metadata": {},
   "outputs": [],
   "source": []
  },
  {
   "cell_type": "code",
   "execution_count": null,
   "id": "5e92f296-2136-4aa2-8f1e-ec0a96631637",
   "metadata": {},
   "outputs": [],
   "source": []
  },
  {
   "cell_type": "code",
   "execution_count": 2,
   "id": "e36860bf-f266-4e3a-91b6-9fb6135d4c53",
   "metadata": {},
   "outputs": [],
   "source": [
    "path = r\"N:\\LUF-Modelling\\LUTO2_JZ\\Built_map\\hdf\\xinan_Landsat_cloud_free_2017_2019.hdf\""
   ]
  },
  {
   "cell_type": "code",
   "execution_count": 3,
   "id": "9e2eed5e-14a1-4f83-92f4-38ea6a667b87",
   "metadata": {},
   "outputs": [],
   "source": [
    "dataset = h5py.File(path,'r')\n",
    "arr = dataset['xinan_Landsat_cloud_free_2017_2019.vrt']"
   ]
  },
  {
   "cell_type": "code",
   "execution_count": null,
   "id": "8d11c93c-2a6e-465e-8356-268d0944d789",
   "metadata": {},
   "outputs": [],
   "source": []
  },
  {
   "cell_type": "code",
   "execution_count": 4,
   "id": "9eaf14f8-44c8-45c9-98f0-9b3111d51c76",
   "metadata": {},
   "outputs": [
    {
     "data": {
      "text/plain": [
       "(11, 56932, 117948)"
      ]
     },
     "execution_count": 4,
     "metadata": {},
     "output_type": "execute_result"
    }
   ],
   "source": [
    "arr.shape"
   ]
  },
  {
   "cell_type": "code",
   "execution_count": 61,
   "id": "48056260-334a-4ab6-bb50-6449b1db8859",
   "metadata": {},
   "outputs": [
    {
     "data": {
      "text/plain": [
       "<matplotlib.image.AxesImage at 0x12da4bcc6d0>"
      ]
     },
     "execution_count": 61,
     "metadata": {},
     "output_type": "execute_result"
    },
    {
     "data": {
      "image/png": "[encoded data removed]",
      "text/plain": [
       "<Figure size 640x480 with 1 Axes>"
      ]
     },
     "metadata": {},
     "output_type": "display_data"
    }
   ],
   "source": [
    "delta = 5000\n",
    "row_start=np.random.randint(0,arr.shape[1]-delta)\n",
    "col_start=np.random.randint(0,arr.shape[2]-delta)\n",
    "\n",
    "tt = arr[(2,3,4),row_start:row_start+delta,col_start:col_start+delta]\n",
    "tt_t = np.transpose(tt[(2,1,0),:,:],(1,2,0))\n",
    "\n",
    "plt.imshow(tt_t,vmin=0,vmax=80)"
   ]
  },
  {
   "cell_type": "code",
   "execution_count": null,
   "id": "05af647e-3d1a-4627-968f-166e9d88955c",
   "metadata": {},
   "outputs": [],
   "source": []
  },
  {
   "cell_type": "code",
   "execution_count": null,
   "id": "75ab564d-39a0-4ba2-b212-a17376afe396",
   "metadata": {},
   "outputs": [],
   "source": []
  },
  {
   "cell_type": "code",
   "execution_count": null,
   "id": "a1e6b01a-0ecf-4848-9154-a5b1050befbc",
   "metadata": {},
   "outputs": [],
   "source": []
  },
  {
   "cell_type": "code",
   "execution_count": null,
   "id": "5b8ae70e-c918-409e-91d5-e59cb3424d5c",
   "metadata": {},
   "outputs": [],
   "source": []
  },
  {
   "cell_type": "code",
   "execution_count": null,
   "id": "daa90e79-d4f6-48c1-b870-5d27322dfe2a",
   "metadata": {},
   "outputs": [],
   "source": []
  },
  {
   "cell_type": "code",
   "execution_count": null,
   "id": "2f7220f7-e056-4f4d-88e3-a2a37ced2648",
   "metadata": {},
   "outputs": [],
   "source": []
  },
  {
   "cell_type": "code",
   "execution_count": null,
   "id": "1dbc86e1-4870-46b9-b463-6414170cac08",
   "metadata": {},
   "outputs": [],
   "source": []
  },
  {
   "cell_type": "code",
   "execution_count": null,
   "id": "74736282-a45a-43d2-8cca-b07ab8b4f6d4",
   "metadata": {},
   "outputs": [],
   "source": []
  },
  {
   "cell_type": "code",
   "execution_count": null,
   "id": "d8b373b0-bf70-45e0-b6bc-2ce27e14b7dd",
   "metadata": {},
   "outputs": [],
   "source": []
  },
  {
   "cell_type": "code",
   "execution_count": null,
   "id": "83ec8c59-75e9-4b01-94b7-c4c7169e43b7",
   "metadata": {},
   "outputs": [],
   "source": []
  },
  {
   "cell_type": "code",
   "execution_count": null,
   "id": "acf6e50f-6e9f-4308-8fce-e4b3510bda95",
   "metadata": {},
   "outputs": [],
   "source": []
  },
  {
   "cell_type": "code",
   "execution_count": null,
   "id": "efefde10-fb72-453b-88d7-8a6dbfc883c2",
   "metadata": {},
   "outputs": [],
   "source": []
  },
  {
   "cell_type": "code",
   "execution_count": null,
   "id": "7ba13655-e868-4525-9b6a-6e9a1b4c9302",
   "metadata": {},
   "outputs": [],
   "source": []
  }
 ],
 "metadata": {
  "kernelspec": {
   "display_name": "Python 3 (ipykernel)",
   "language": "python",
   "name": "python3"
  },
  "language_info": {
   "codemirror_mode": {
    "name": "ipython",
    "version": 3
   },
   "file_extension": ".py",
   "mimetype": "text/x-python",
   "name": "python",
   "nbconvert_exporter": "python",
   "pygments_lexer": "ipython3",
   "version": "3.10.9"
  }
 },
 "nbformat": 4,
 "nbformat_minor": 5
}
