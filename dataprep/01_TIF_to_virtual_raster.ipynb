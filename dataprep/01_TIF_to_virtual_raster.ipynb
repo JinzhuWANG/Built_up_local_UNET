{
 "cells": [
  {
   "cell_type": "code",
   "execution_count": 1,
   "id": "29592560-e597-4a66-bc95-2c510cc96c50",
   "metadata": {},
   "outputs": [],
   "source": [
    "import numpy as np\n",
    "import pandas as pd\n",
    "from glob import glob\n",
    "\n",
    "from osgeo import gdal\n",
    "import rasterio\n",
    "from tqdm.auto import tqdm\n",
    "\n",
    "from tools import get_str_info"
   ]
  },
  {
   "cell_type": "code",
   "execution_count": null,
   "id": "3983f41a-58df-4bc4-a934-d7f38704f75d",
   "metadata": {},
   "outputs": [],
   "source": []
  },
  {
   "cell_type": "code",
   "execution_count": 2,
   "id": "685eb5e8-70db-4c9b-ac12-c0c99ce3c16b",
   "metadata": {
    "tags": []
   },
   "outputs": [],
   "source": [
    "# define the path to tif files\n",
    "path_1 = 'D:\\GEE_tif'\n",
    "path_2 = \"N:\\LUF-Modelling\\LUTO2_JZ\\Built_map\\GEE_tif_l\"\n",
    "\n",
    "# get all tif files\n",
    "tifs = glob(f'{path_1}/*.tif') + glob(f'{path_2}/*.tif')\n",
    "\n",
    "# convert tif_paths to a df, append name columns\n",
    "files_df = pd.DataFrame({'path':tifs})\n",
    "files_df[['region','type','year']] = files_df['path'].apply(lambda x:get_str_info(x)).tolist()\n",
    "\n",
    "# append the tif_paths of same {region|type|year} as a list\n",
    "grouped_df = files_df.groupby(['region','type','year']).apply(lambda x:x['path'].tolist()).reset_index()"
   ]
  },
  {
   "cell_type": "code",
   "execution_count": null,
   "id": "d6e7b641-3dd6-4b72-9621-5f817e916280",
   "metadata": {},
   "outputs": [],
   "source": []
  },
  {
   "cell_type": "code",
   "execution_count": 7,
   "id": "9c6283ba-c8fe-4972-81ec-2340eb5f1cba",
   "metadata": {
    "tags": []
   },
   "outputs": [
    {
     "data": {
      "application/vnd.jupyter.widget-view+json": {
       "model_id": "3d9bbbdf0aaa4d7fa387933083397bff",
       "version_major": 2,
       "version_minor": 0
      },
      "text/plain": [
       "  0%|          | 0/6 [00:00<?, ?it/s]"
      ]
     },
     "metadata": {},
     "output_type": "display_data"
    }
   ],
   "source": [
    "# save the tifs of of same {region|type|year} as a virtual raster\n",
    "for _,row in tqdm(grouped_df.iterrows(), total=len(grouped_df)):\n",
    "    \n",
    "    vir = gdal.BuildVRT(f\"../out_data/{row['region']}_{row['type']}_{row['year']}.vrt\", row[0])\n",
    "    vir.FlushCache()"
   ]
  },
  {
   "cell_type": "code",
   "execution_count": null,
   "id": "1437fb2d-4264-40c6-8a84-94fd825cf907",
   "metadata": {},
   "outputs": [],
   "source": []
  },
  {
   "cell_type": "code",
   "execution_count": 8,
   "id": "3ee28bee-9e5d-4c7c-b08d-29ad04e05e3a",
   "metadata": {},
   "outputs": [
    {
     "data": {
      "application/vnd.jupyter.widget-view+json": {
       "model_id": "356a557bcf9245919ac5a1c969cf8126",
       "version_major": 2,
       "version_minor": 0
      },
      "text/plain": [
       "  0%|          | 0/204 [00:00<?, ?it/s]"
      ]
     },
     "metadata": {},
     "output_type": "display_data"
    }
   ],
   "source": [
    "# save the transformation info\n",
    "VRT_files = glob('../out_data/*.vrt')\n",
    "\n",
    "# convert VRT files into df\n",
    "tif_info = []\n",
    "for i in tqdm(VRT_files,total=len(VRT_files)):\n",
    "    region,tif_type,year = get_str_info(i) \n",
    "    tif_meta = rasterio.open(i).meta\n",
    "    tif_info.append({'region':region,'type':tif_type,'year':year,'trans':tif_meta})\n",
    "\n",
    "# put all record into a df\n",
    "tif_df = pd.DataFrame(tif_info)\n",
    "\n",
    "# save tif_df to disk\n",
    "tif_df.to_pickle('../out_data/tif_df.pkl')"
   ]
  },
  {
   "cell_type": "code",
   "execution_count": null,
   "id": "5ce75060-467e-41f3-ac56-561a53fa7c77",
   "metadata": {},
   "outputs": [],
   "source": []
  },
  {
   "cell_type": "code",
   "execution_count": null,
   "id": "8410b746-9e3c-4f06-a574-84668ba87846",
   "metadata": {},
   "outputs": [],
   "source": []
  },
  {
   "cell_type": "code",
   "execution_count": null,
   "id": "ccb54a34-8dc5-42d7-a0ca-dcd2979fdeac",
   "metadata": {},
   "outputs": [],
   "source": []
  },
  {
   "cell_type": "code",
   "execution_count": null,
   "id": "6b4562fb-8acb-48dd-b517-dd4e6ffb9701",
   "metadata": {},
   "outputs": [],
   "source": []
  },
  {
   "cell_type": "code",
   "execution_count": null,
   "id": "2cb7923b-d6e1-4888-8f8b-5c6debfe3f3c",
   "metadata": {},
   "outputs": [],
   "source": []
  },
  {
   "cell_type": "code",
   "execution_count": null,
   "id": "9beb386d-e02a-43a9-9244-7adfa4016a1e",
   "metadata": {},
   "outputs": [],
   "source": []
  },
  {
   "cell_type": "code",
   "execution_count": null,
   "id": "a07efe65-db94-4b9d-b770-9d957153c966",
   "metadata": {},
   "outputs": [],
   "source": []
  },
  {
   "cell_type": "code",
   "execution_count": null,
   "id": "c53a8309-c798-4712-801e-e1d6501637f1",
   "metadata": {},
   "outputs": [],
   "source": []
  },
  {
   "cell_type": "code",
   "execution_count": null,
   "id": "63dbc583-e639-48d0-b566-707e08fff26d",
   "metadata": {},
   "outputs": [],
   "source": []
  },
  {
   "cell_type": "code",
   "execution_count": null,
   "id": "b29ad13c-27da-4bde-af87-4301dfde2c0c",
   "metadata": {},
   "outputs": [],
   "source": []
  }
 ],
 "metadata": {
  "kernelspec": {
   "display_name": "Python 3 (ipykernel)",
   "language": "python",
   "name": "python3"
  },
  "language_info": {
   "codemirror_mode": {
    "name": "ipython",
    "version": 3
   },
   "file_extension": ".py",
   "mimetype": "text/x-python",
   "name": "python",
   "nbconvert_exporter": "python",
   "pygments_lexer": "ipython3",
   "version": "3.10.9"
  }
 },
 "nbformat": 4,
 "nbformat_minor": 5
}
